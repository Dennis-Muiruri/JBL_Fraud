{
 "cells": [
  {
   "cell_type": "code",
   "execution_count": null,
   "id": "478ca560",
   "metadata": {},
   "outputs": [],
   "source": [
    "import pandas as pd"
   ]
  },
  {
   "cell_type": "markdown",
   "id": "3b81656a",
   "metadata": {},
   "source": [
    "#### Loading data to Data Frame"
   ]
  },
  {
   "cell_type": "code",
   "execution_count": null,
   "id": "d4947280",
   "metadata": {},
   "outputs": [],
   "source": [
    "df_clean = pd.read_csv(\"ClaimsRegister.csv\")"
   ]
  },
  {
   "cell_type": "markdown",
   "id": "541eddcc",
   "metadata": {},
   "source": [
    "#### Dropping unnecessary columns"
   ]
  },
  {
   "cell_type": "code",
   "execution_count": null,
   "id": "874c6906",
   "metadata": {},
   "outputs": [],
   "source": [
    "# List of columns to keep\n",
    "columns_to_keep = [\n",
    "#   \"POLICYSTATUS\", \n",
    "    \"ORIGINALINVOICEGROSSAMOUNT\", \n",
    "    \"RECOVEREDAMOUNT\", \n",
    "    \"RECOVERYDISCOUNTPBC\", \n",
    "    \"NHIFAMOUNTPBC\", \n",
    "    \"INVLINEPBCDISCOUNTAMOUNT\", \n",
    "    \"INVLINEPBCDENIEDAMOUNT\", \n",
    "    \"BENEFITEXCESSAPPLIED\", \n",
    "    \"INVOICEDAMOUNT\", \n",
    "    \"SETTLEDAMOUNT\", \n",
    "    \"INVOICELINEUSERSTATUS\", \n",
    "    \"INVOICECURRENCYDENIEDAMOUNT\", \n",
    "    \"ReasonText\"\n",
    "]\n",
    "\n",
    "# Filter the DataFrame to keep only the specified columns\n",
    "df_clean = df_clean[columns_to_keep]\n",
    "\n",
    "# Display the updated DataFrame\n",
    "df_clean.head()\n"
   ]
  },
  {
   "cell_type": "markdown",
   "id": "2656463a",
   "metadata": {},
   "source": [
    "#### Extracting Variance and Prescribed Amount"
   ]
  },
  {
   "cell_type": "code",
   "execution_count": null,
   "id": "43e9160d",
   "metadata": {},
   "outputs": [],
   "source": [
    "import regex as re\n",
    "# We create a function extract_prescribed_amount that uses regular expressions to find and extract text between = and ). This function:\n",
    "def extract_prescribed_amount(text):\n",
    "    if isinstance(text, str):  # Check if the input is a string\n",
    "        match = re.search(r'=(.*?)\\)', text)\n",
    "        if match:\n",
    "            return match.group(1).strip()  # Extract the amount and strip extra spaces\n",
    "    return None  # Return None if input is not a string or no match is found\n",
    "\n",
    "# Apply the function\n",
    "df_clean['Prescribed Amount'] = df_clean['ReasonText'].apply(extract_prescribed_amount)\n",
    "\n",
    "# Convert 'Prescribed Amount' to numeric, forcing errors to NaN (if any non-numeric values are present)\n",
    "df_clean['Prescribed Amount'] = pd.to_numeric(df_clean['Prescribed Amount'], errors='coerce')\n",
    "\n",
    "# Calculate the 'Variance' column\n",
    "df_clean['Variance'] = df_clean['INVOICEDAMOUNT'] - df_clean['Prescribed Amount']\n"
   ]
  },
  {
   "cell_type": "code",
   "execution_count": null,
   "id": "09753e6d",
   "metadata": {},
   "outputs": [],
   "source": [
    "# Drop \"ReasonText\"\n",
    "df_clean = df_clean.drop(columns=[\"ReasonText\"])"
   ]
  },
  {
   "cell_type": "markdown",
   "id": "5a6492c1",
   "metadata": {},
   "source": [
    "####  Filling missing values with mode for categorical values and mean for numerical values"
   ]
  },
  {
   "cell_type": "code",
   "execution_count": null,
   "id": "606cd62a",
   "metadata": {},
   "outputs": [],
   "source": [
    "# Fill object (categorical) columns with mode\n",
    "for col in df_clean.select_dtypes(include=['object']).columns:\n",
    "    df_clean[col].fillna(df_clean[col].mode()[0], inplace=True)\n",
    "\n",
    "# Fill non-object (numerical) columns with mean\n",
    "for col in df_clean.select_dtypes(exclude=['object']).columns:\n",
    "    df_clean[col].fillna(df_clean[col].mean(), inplace=True)\n",
    "\n",
    "# Check again for null values\n",
    "null_values_after_fill = df_clean.isnull().sum()\n",
    "\n",
    "# Display the count of null values for each column after filling\n",
    "null_values_after_fill\n"
   ]
  },
  {
   "cell_type": "code",
   "execution_count": null,
   "id": "892ead11",
   "metadata": {},
   "outputs": [],
   "source": [
    "# Check data types\n",
    "print(df_clean.dtypes)\n"
   ]
  },
  {
   "cell_type": "markdown",
   "id": "ec04a895",
   "metadata": {},
   "source": [
    "#### Filtering the original data which reduces to 879,307  rows out of which 827,677  are paid and 51630 are declined"
   ]
  },
  {
   "cell_type": "code",
   "execution_count": null,
   "id": "0a8b8192",
   "metadata": {},
   "outputs": [],
   "source": [
    "# Filter the DataFrame based on the INVOICELINEUSERSTATUS column\n",
    "filtered_df = df_clean[df_clean['INVOICELINEUSERSTATUS'].isin(['Paid', 'NP - Not to be Paid'])]"
   ]
  },
  {
   "cell_type": "markdown",
   "id": "40ccf7e3",
   "metadata": {},
   "source": [
    "```\n",
    "```"
   ]
  },
  {
   "cell_type": "markdown",
   "id": "0d3d3647",
   "metadata": {},
   "source": [
    "```\n",
    "```"
   ]
  },
  {
   "cell_type": "markdown",
   "id": "7fbdc4fb",
   "metadata": {},
   "source": [
    "```\n",
    "```\n",
    "# Deep Learning Model"
   ]
  },
  {
   "cell_type": "markdown",
   "id": "3cd80cd0",
   "metadata": {},
   "source": [
    "#### Loading necesssary libraries"
   ]
  },
  {
   "cell_type": "code",
   "execution_count": null,
   "id": "6b0d98d2",
   "metadata": {},
   "outputs": [],
   "source": [
    "import pandas as pd\n",
    "import numpy as np\n",
    "from sklearn.model_selection import train_test_split, KFold\n",
    "from sklearn.preprocessing import OneHotEncoder\n",
    "from imblearn.over_sampling import SMOTE\n",
    "from tensorflow import keras\n",
    "from tensorflow.keras import layers\n"
   ]
  },
  {
   "cell_type": "markdown",
   "id": "9850d125",
   "metadata": {},
   "source": [
    "#### Defining Target"
   ]
  },
  {
   "cell_type": "code",
   "execution_count": null,
   "id": "c53e9ea5",
   "metadata": {},
   "outputs": [],
   "source": [
    "# Separate features and target variable\n",
    "X = filtered_df.drop(columns=['INVOICELINEUSERSTATUS'])\n",
    "y = filtered_df['INVOICELINEUSERSTATUS'].map({'Paid': 0, 'NP - Not to be Paid': 1})  # Convert to binary\n"
   ]
  },
  {
   "cell_type": "code",
   "execution_count": null,
   "id": "ce3d6655",
   "metadata": {},
   "outputs": [],
   "source": [
    "# Split the data into training and testing sets\n",
    "X_train, X_test, y_train, y_test = train_test_split(X, y, test_size=0.2, random_state=42, stratify=y)\n",
    "\n",
    "# Apply SMOTE to the training data\n",
    "smote = SMOTE(random_state=42)\n",
    "X_train_resampled, y_train_resampled = smote.fit_resample(X_train, y_train)\n"
   ]
  },
  {
   "cell_type": "code",
   "execution_count": null,
   "id": "b249bd8a",
   "metadata": {},
   "outputs": [],
   "source": [
    "def create_model(input_shape):\n",
    "    model = keras.Sequential([\n",
    "        layers.Input(shape=input_shape),\n",
    "        layers.Dense(64, activation='relu'),\n",
    "        layers.Dense(32, activation='relu'),\n",
    "        layers.Dense(1, activation='sigmoid')  # Binary classification\n",
    "    ])\n",
    "    model.compile(optimizer='adam', loss='binary_crossentropy', metrics=['accuracy'])\n",
    "    return model\n"
   ]
  },
  {
   "cell_type": "code",
   "execution_count": null,
   "id": "9528bd7b",
   "metadata": {},
   "outputs": [],
   "source": [
    "import numpy as np\n",
    "from sklearn.model_selection import KFold\n",
    "import os\n",
    "\n",
    "# Ensure the 'models' directory exists for saving the models\n",
    "os.makedirs(\"models\", exist_ok=True)\n",
    "\n",
    "# Set up K-fold cross-validation\n",
    "kf = KFold(n_splits=5, shuffle=True, random_state=42)\n",
    "accuracies = []\n",
    "\n",
    "for fold, (train_index, val_index) in enumerate(kf.split(X_train_resampled), start=1):\n",
    "    # Use iloc to index rows based on integer positions\n",
    "    X_k_train, X_k_val = X_train_resampled.iloc[train_index], X_train_resampled.iloc[val_index]\n",
    "    y_k_train, y_k_val = y_train_resampled.iloc[train_index], y_train_resampled.iloc[val_index]\n",
    "\n",
    "    # Create and train the model\n",
    "    model = create_model(input_shape=(X_k_train.shape[1],))\n",
    "    model.fit(X_k_train, y_k_train, epochs=10, batch_size=32, verbose=1)\n",
    "\n",
    "    # Evaluate the model\n",
    "    val_loss, val_accuracy = model.evaluate(X_k_val, y_k_val)\n",
    "    accuracies.append(val_accuracy)\n",
    "\n",
    "    # Save the model for this fold\n",
    "    model.save(f\"models/model_fold_{fold}.h5\")\n",
    "    print(f\"Model for fold {fold} saved.\")\n",
    "\n",
    "# Output the average accuracy across folds\n",
    "print(f'Average K-Fold Accuracy: {np.mean(accuracies)}')\n"
   ]
  },
  {
   "cell_type": "markdown",
   "id": "1e649a2e",
   "metadata": {},
   "source": [
    "# Predictions"
   ]
  },
  {
   "cell_type": "code",
   "execution_count": 138,
   "id": "da67c03b",
   "metadata": {},
   "outputs": [
    {
     "name": "stderr",
     "output_type": "stream",
     "text": [
      "WARNING:absl:Compiled the loaded model, but the compiled metrics have yet to be built. `model.compile_metrics` will be empty until you train or evaluate the model.\n"
     ]
    },
    {
     "name": "stdout",
     "output_type": "stream",
     "text": [
      "\u001b[1m7674/7674\u001b[0m \u001b[32m━━━━━━━━━━━━━━━━━━━━\u001b[0m\u001b[37m\u001b[0m \u001b[1m24s\u001b[0m 3ms/step\n",
      "[[0.        ]\n",
      " [0.        ]\n",
      " [0.98776007]\n",
      " ...\n",
      " [0.        ]\n",
      " [0.        ]\n",
      " [0.        ]]\n"
     ]
    }
   ],
   "source": [
    "# Load DL_deep.csv for predictions\n",
    "df_predict = pd.read_csv(\"DL_deep.csv\")\n",
    "\n",
    "# Keep only relevant columns and process them similarly to ClaimsRegister.csv\n",
    "columns_to_keep = [\n",
    "    \"ORIGINALINVOICEGROSSAMOUNT\", \n",
    "    \"RECOVEREDAMOUNT\", \n",
    "    \"RECOVERYDISCOUNTPBC\", \n",
    "    \"NHIFAMOUNTPBC\", \n",
    "    \"INVLINEPBCDISCOUNTAMOUNT\", \n",
    "    \"INVLINEPBCDENIEDAMOUNT\", \n",
    "    \"BENEFITEXCESSAPPLIED\", \n",
    "    \"INVOICEDAMOUNT\", \n",
    "    \"SETTLEDAMOUNT\", \n",
    "    \"INVOICELINEUSERSTATUS\", \n",
    "    \"INVOICECURRENCYDENIEDAMOUNT\", \n",
    "    \"ReasonText\"\n",
    "]\n",
    "df_predict = df_predict[columns_to_keep]\n",
    "\n",
    "# Apply extract_prescribed_amount function and process other columns\n",
    "df_predict['Prescribed Amount'] = df_predict['ReasonText'].apply(extract_prescribed_amount)\n",
    "df_predict['Prescribed Amount'] = pd.to_numeric(df_predict['Prescribed Amount'], errors='coerce')\n",
    "df_predict['Variance'] = df_predict['INVOICEDAMOUNT'] - df_predict['Prescribed Amount']\n",
    "df_predict = df_predict.drop(columns=[\"ReasonText\"])\n",
    "\n",
    "# Handle missing values\n",
    "for col in df_predict.select_dtypes(include=['object']).columns:\n",
    "    df_predict[col].fillna(df_predict[col].mode()[0], inplace=True)\n",
    "for col in df_predict.select_dtypes(exclude=['object']).columns:\n",
    "    df_predict[col].fillna(df_predict[col].mean(), inplace=True)\n",
    "\n",
    "# Load a pre-trained model and make predictions\n",
    "from tensorflow.keras.models import load_model\n",
    "model = load_model(\"models/model_fold_1.h5\")  # Load one of the trained models\n",
    "\n",
    "# Prepare input data and make predictions\n",
    "X_predict = df_predict.drop(columns=['INVOICELINEUSERSTATUS'], errors='ignore')\n",
    "predictions = model.predict(X_predict)\n",
    "\n",
    "# Output predictions\n",
    "print(predictions)\n"
   ]
  },
  {
   "cell_type": "code",
   "execution_count": 182,
   "id": "1a55e00b",
   "metadata": {},
   "outputs": [
    {
     "name": "stderr",
     "output_type": "stream",
     "text": [
      "WARNING:absl:Compiled the loaded model, but the compiled metrics have yet to be built. `model.compile_metrics` will be empty until you train or evaluate the model.\n"
     ]
    },
    {
     "name": "stdout",
     "output_type": "stream",
     "text": [
      "\u001b[1m7674/7674\u001b[0m \u001b[32m━━━━━━━━━━━━━━━━━━━━\u001b[0m\u001b[37m\u001b[0m \u001b[1m13s\u001b[0m 2ms/step\n",
      "Predictions saved to DL_deep_with_predictions.csv\n"
     ]
    }
   ],
   "source": [
    "# Load DL_deep.csv for predictions\n",
    "df_predict = pd.read_csv(\"DL_deep.csv\")\n",
    "\n",
    "# Keep only relevant columns\n",
    "columns_to_keep = [\n",
    "    \"ORIGINALINVOICEGROSSAMOUNT\", \n",
    "    \"RECOVEREDAMOUNT\", \n",
    "    \"RECOVERYDISCOUNTPBC\", \n",
    "    \"NHIFAMOUNTPBC\", \n",
    "    \"INVLINEPBCDISCOUNTAMOUNT\", \n",
    "    \"INVLINEPBCDENIEDAMOUNT\", \n",
    "    \"BENEFITEXCESSAPPLIED\", \n",
    "    \"INVOICEDAMOUNT\", \n",
    "    \"SETTLEDAMOUNT\", \n",
    "    \"INVOICELINEUSERSTATUS\", \n",
    "    \"INVOICECURRENCYDENIEDAMOUNT\", \n",
    "    \"ReasonText\"\n",
    "]\n",
    "df_predict = df_predict[columns_to_keep]\n",
    "\n",
    "# Process ReasonText to extract prescribed amount\n",
    "df_predict['Prescribed Amount'] = df_predict['ReasonText'].apply(extract_prescribed_amount)\n",
    "df_predict['Prescribed Amount'] = pd.to_numeric(df_predict['Prescribed Amount'], errors='coerce')\n",
    "df_predict['Variance'] = df_predict['INVOICEDAMOUNT'] - df_predict['Prescribed Amount']\n",
    "df_predict = df_predict.drop(columns=[\"ReasonText\"])\n",
    "\n",
    "# Handle missing values\n",
    "for col in df_predict.select_dtypes(include=['object']).columns:\n",
    "    df_predict[col].fillna(df_predict[col].mode()[0], inplace=True)\n",
    "for col in df_predict.select_dtypes(exclude=['object']).columns:\n",
    "    df_predict[col].fillna(df_predict[col].mean(), inplace=True)\n",
    "\n",
    "# Load a pre-trained model and make predictions\n",
    "from tensorflow.keras.models import load_model\n",
    "model = load_model(\"models/model_fold_2.h5\")  # Load one of the trained models\n",
    "\n",
    "# Prepare input data for prediction and make predictions\n",
    "X_predict = df_predict.drop(columns=['INVOICELINEUSERSTATUS'], errors='ignore')\n",
    "predictions = model.predict(X_predict)\n",
    "\n",
    "# Apply a threshold to get binary predictions\n",
    "binary_predictions = (predictions > 0.5).astype(int)\n",
    "\n",
    "# Add binary predictions to the original DataFrame\n",
    "df_predict['Predicted_INVOICELINEUSERSTATUS'] = binary_predictions\n",
    "\n",
    "# Save to a new CSV file\n",
    "df_predict.to_csv(\"DL_deep_with_predictions4.csv\", index=False)\n",
    "print(\"Predictions saved to DL_deep_with_predictions.csv\")\n"
   ]
  },
  {
   "cell_type": "code",
   "execution_count": 159,
   "id": "5ad41209",
   "metadata": {
    "scrolled": false
   },
   "outputs": [
    {
     "name": "stdout",
     "output_type": "stream",
     "text": [
      "\u001b[1m5496/5496\u001b[0m \u001b[32m━━━━━━━━━━━━━━━━━━━━\u001b[0m\u001b[37m\u001b[0m \u001b[1m17s\u001b[0m 3ms/step\n",
      "Confusion Matrix:\n",
      "[[163547   1989]\n",
      " [     5  10321]]\n"
     ]
    },
    {
     "data": {
      "image/png": "[encoded data removed]",
      "text/plain": [
       "<Figure size 640x480 with 2 Axes>"
      ]
     },
     "metadata": {},
     "output_type": "display_data"
    }
   ],
   "source": [
    "from sklearn.metrics import confusion_matrix, ConfusionMatrixDisplay\n",
    "import matplotlib.pyplot as plt\n",
    "\n",
    "# Assuming y_test and X_test are defined and preprocessed as in your training pipeline\n",
    "\n",
    "# Make predictions on the test set\n",
    "y_test_pred_proba = model.predict(X_test)\n",
    "y_test_pred = (y_test_pred_proba > 0.5).astype(int).flatten()  # Convert probabilities to binary predictions\n",
    "\n",
    "# Compute the confusion matrix\n",
    "cm = confusion_matrix(y_test, y_test_pred)\n",
    "print(\"Confusion Matrix:\")\n",
    "print(cm)\n",
    "\n",
    "# Plot the confusion matrix with a red color scheme\n",
    "disp = ConfusionMatrixDisplay(confusion_matrix=cm, display_labels=['Paid', 'NP - Not to be Paid'])\n",
    "disp.plot(cmap='YlOrBr')\n",
    "plt.title(\"Confusion Matrix for Neural Network on Test Data\")\n",
    "plt.show()\n"
   ]
  },
  {
   "cell_type": "markdown",
   "id": "5578ab17",
   "metadata": {},
   "source": [
    "### Claims Prediction Analysis\n",
    "\n",
    "Given the following claims data:\n",
    "\n",
    "- **Out of 219,292 claims**:\n",
    "  - **Predicted Paid Claims**: 204,465\n",
    "  - **Actual Paid Claims**: 204,456\n",
    "  - **Misclassified Paid Claims**: 9\n",
    "  - **Predicted Declined Claims**: 14,827\n",
    "  - **Actual Declined Claims**: 13,001\n",
    "  - **Misclassified Declined Claims**: 1,826\n",
    "\n",
    "#### Calculations\n",
    "\n",
    "1. **True Positives (TP)**: Correctly predicted paid claims  \n",
    "   $$ TP = 204,456 - 9 = 204,447 $$\n",
    "\n",
    "2. **False Negatives (FN)**: Incorrectly predicted declined claims  \n",
    "   $$ FN = 9 $$\n",
    "\n",
    "3. **True Negatives (TN)**: Correctly predicted declined claims  \n",
    "   $$ TN = 13,001 - 1,826 = 11,175 $$\n",
    "\n",
    "4. **False Positives (FP)**: Incorrectly predicted paid claims  \n",
    "   $$ FP = 1,826 $$\n",
    "\n",
    "#### Accuracy Calculation\n",
    "\n",
    "The accuracy is calculated as follows:\n",
    "\n",
    "$$\n",
    "\\text{Accuracy} = \\frac{204,447 + 11,175}{219,292}\n",
    "$$\n",
    "\n",
    "**Final Accuracy**:  \n",
    "$$\n",
    "\\text{Accuracy} \\approx 0.9770 \\text{ or } 97.70\\%\n",
    "$$\n"
   ]
  },
  {
   "cell_type": "markdown",
   "id": "55af6d8f",
   "metadata": {},
   "source": [
    "```\n",
    "```"
   ]
  },
  {
   "cell_type": "markdown",
   "id": "8187ce10",
   "metadata": {},
   "source": [
    "```\n",
    "```"
   ]
  },
  {
   "cell_type": "markdown",
   "id": "4d6cf00c",
   "metadata": {},
   "source": [
    "```\n",
    "```"
   ]
  },
  {
   "cell_type": "markdown",
   "id": "4576d5ce",
   "metadata": {},
   "source": [
    "```\n",
    "```"
   ]
  },
  {
   "cell_type": "markdown",
   "id": "9f3659ba",
   "metadata": {},
   "source": [
    "```\n",
    "```"
   ]
  },
  {
   "cell_type": "markdown",
   "id": "1d6aa6a3",
   "metadata": {},
   "source": [
    "```\n",
    "```\n",
    "\n",
    "# XGBoost"
   ]
  },
  {
   "cell_type": "code",
   "execution_count": 149,
   "id": "508aba84",
   "metadata": {},
   "outputs": [],
   "source": [
    "import pandas as pd\n",
    "import numpy as np\n",
    "from sklearn.model_selection import train_test_split, KFold, GridSearchCV\n",
    "from imblearn.over_sampling import SMOTE\n",
    "from sklearn.metrics import accuracy_score\n",
    "from xgboost import XGBClassifier\n",
    "\n",
    "# Separate features and target variable\n",
    "X = filtered_df.drop(columns=['INVOICELINEUSERSTATUS'])\n",
    "y = filtered_df['INVOICELINEUSERSTATUS'].map({'Paid': 0, 'NP - Not to be Paid': 1})  # Convert to binary\n",
    "\n",
    "# Split the data into training and testing sets\n",
    "X_train, X_test, y_train, y_test = train_test_split(X, y, test_size=0.2, random_state=42, stratify=y)\n",
    "\n",
    "# Apply SMOTE to the training data\n",
    "smote = SMOTE(random_state=42)\n",
    "X_train_resampled, y_train_resampled = smote.fit_resample(X_train, y_train)\n"
   ]
  },
  {
   "cell_type": "code",
   "execution_count": 150,
   "id": "3de054c4",
   "metadata": {},
   "outputs": [
    {
     "name": "stdout",
     "output_type": "stream",
     "text": [
      "Fitting 5 folds for each of 648 candidates, totalling 3240 fits\n"
     ]
    },
    {
     "name": "stderr",
     "output_type": "stream",
     "text": [
      "C:\\Users\\Pathways\\anaconda3\\Lib\\site-packages\\numpy\\ma\\core.py:2820: RuntimeWarning: invalid value encountered in cast\n",
      "  _data = np.array(data, dtype=dtype, copy=copy,\n"
     ]
    },
    {
     "name": "stdout",
     "output_type": "stream",
     "text": [
      "Best parameters: {'colsample_bytree': 1, 'gamma': 0.1, 'learning_rate': 0.2, 'max_depth': 7, 'n_estimators': 200, 'reg_alpha': 0.1, 'subsample': 0.8}\n"
     ]
    }
   ],
   "source": [
    "# Define the parameter grid\n",
    "param_grid = {\n",
    "    'n_estimators': [100, 200],\n",
    "    'learning_rate': [0.01, 0.1, 0.2],\n",
    "    'max_depth': [3, 5, 7],\n",
    "    'subsample': [0.8, 1],\n",
    "    'colsample_bytree': [0.8, 1],\n",
    "    'gamma': [0, 0.1, 0.3],\n",
    "    'reg_alpha': [0, 0.1, 0.5]\n",
    "}\n",
    "\n",
    "# Initialize XGBClassifier\n",
    "xgb_clf = XGBClassifier(objective='binary:logistic', use_label_encoder=False, eval_metric='logloss')\n",
    "\n",
    "# Set up GridSearchCV\n",
    "grid_search = GridSearchCV(\n",
    "    estimator=xgb_clf,\n",
    "    param_grid=param_grid,\n",
    "    scoring='accuracy',\n",
    "    cv=5,\n",
    "    verbose=1,\n",
    "    n_jobs=-1\n",
    ")\n",
    "\n",
    "# Fit the grid search to the training data\n",
    "grid_search.fit(X_train_resampled, y_train_resampled)\n",
    "\n",
    "# Print best parameters\n",
    "print(\"Best parameters:\", grid_search.best_params_)\n",
    "best_model = grid_search.best_estimator_\n"
   ]
  },
  {
   "cell_type": "markdown",
   "id": "a2228a6d",
   "metadata": {},
   "source": [
    "##### using the parameters manually to avoid doing the grid search again"
   ]
  },
  {
   "cell_type": "code",
   "execution_count": 166,
   "id": "54188d09",
   "metadata": {},
   "outputs": [
    {
     "name": "stdout",
     "output_type": "stream",
     "text": [
      "Test Accuracy: 0.9920562713946163\n",
      "Predictions saved to DL_deep_with_predictions3.csv\n"
     ]
    }
   ],
   "source": [
    "from xgboost import XGBClassifier\n",
    "from sklearn.metrics import accuracy_score\n",
    "import pandas as pd\n",
    "\n",
    "# Define the model with specific parameters\n",
    "xgb_model = XGBClassifier(\n",
    "    objective='binary:logistic',\n",
    "    use_label_encoder=False,\n",
    "    eval_metric='logloss',\n",
    "    colsample_bytree=1,\n",
    "    gamma=0.1,\n",
    "    learning_rate=0.2,\n",
    "    max_depth=7,\n",
    "    n_estimators=200,\n",
    "    reg_alpha=0.1,\n",
    "    subsample=0.8\n",
    ")\n",
    "\n",
    "# Train the model on the resampled training data\n",
    "xgb_model.fit(X_train_resampled, y_train_resampled)\n",
    "\n",
    "# Predict on the test set\n",
    "y_pred = xgb_model.predict(X_test)\n",
    "\n",
    "# Calculate and print the accuracy\n",
    "accuracy = accuracy_score(y_test, y_pred)\n",
    "print(\"Test Accuracy:\", accuracy)\n",
    "\n",
    "# Load new data for predictions\n",
    "df_predict = pd.read_csv(\"DL_deep.csv\")\n",
    "\n",
    "# Keep only relevant columns and process them similarly\n",
    "columns_to_keep = [\n",
    "    \"ORIGINALINVOICEGROSSAMOUNT\", \n",
    "    \"RECOVEREDAMOUNT\", \n",
    "    \"RECOVERYDISCOUNTPBC\", \n",
    "    \"NHIFAMOUNTPBC\", \n",
    "    \"INVLINEPBCDISCOUNTAMOUNT\", \n",
    "    \"INVLINEPBCDENIEDAMOUNT\", \n",
    "    \"BENEFITEXCESSAPPLIED\", \n",
    "    \"INVOICEDAMOUNT\", \n",
    "    \"SETTLEDAMOUNT\", \n",
    "    \"INVOICELINEUSERSTATUS\", \n",
    "    \"INVOICECURRENCYDENIEDAMOUNT\", \n",
    "    \"ReasonText\"\n",
    "]\n",
    "df_predict = df_predict[columns_to_keep]\n",
    "\n",
    "# Process ReasonText to extract prescribed amount\n",
    "df_predict['Prescribed Amount'] = df_predict['ReasonText'].apply(extract_prescribed_amount)\n",
    "df_predict['Prescribed Amount'] = pd.to_numeric(df_predict['Prescribed Amount'], errors='coerce')\n",
    "df_predict['Variance'] = df_predict['INVOICEDAMOUNT'] - df_predict['Prescribed Amount']\n",
    "df_predict = df_predict.drop(columns=[\"ReasonText\"])\n",
    "\n",
    "# Handle missing values\n",
    "for col in df_predict.select_dtypes(include=['object']).columns:\n",
    "    df_predict[col].fillna(df_predict[col].mode()[0], inplace=True)\n",
    "for col in df_predict.select_dtypes(exclude=['object']).columns:\n",
    "    df_predict[col].fillna(df_predict[col].mean(), inplace=True)\n",
    "\n",
    "# Prepare the input data for prediction\n",
    "X_predict = df_predict.drop(columns=['INVOICELINEUSERSTATUS'], errors='ignore')\n",
    "\n",
    "# Make predictions with the tuned model\n",
    "predictions = xgb_model.predict(X_predict)\n",
    "\n",
    "# Add predictions to the DataFrame\n",
    "df_predict['Predicted_INVOICELINEUSERSTATUS'] = predictions\n",
    "\n",
    "# Save predictions to a new CSV file\n",
    "df_predict.to_csv(\"DL_deep_with_predictions3.csv\", index=False)\n",
    "print(\"Predictions saved to DL_deep_with_predictions3.csv\")\n"
   ]
  },
  {
   "cell_type": "code",
   "execution_count": 167,
   "id": "136d188c",
   "metadata": {},
   "outputs": [
    {
     "name": "stdout",
     "output_type": "stream",
     "text": [
      "Confusion Matrix:\n",
      "[[164183   1353]\n",
      " [    44  10282]]\n"
     ]
    },
    {
     "data": {
      "image/png": "[encoded data removed]",
      "text/plain": [
       "<Figure size 640x480 with 2 Axes>"
      ]
     },
     "metadata": {},
     "output_type": "display_data"
    }
   ],
   "source": [
    "from sklearn.metrics import confusion_matrix, ConfusionMatrixDisplay\n",
    "import matplotlib.pyplot as plt\n",
    "\n",
    "# Predict on the test set\n",
    "y_pred = xgb_model.predict(X_test)\n",
    "\n",
    "# Generate the confusion matrix\n",
    "cm = confusion_matrix(y_test, y_pred)\n",
    "print(\"Confusion Matrix:\")\n",
    "print(cm)\n",
    "\n",
    "# Display the confusion matrix with a heatmap\n",
    "disp = ConfusionMatrixDisplay(confusion_matrix=cm, display_labels=['Paid', 'NP - Not to be Paid'])\n",
    "disp.plot(cmap='Blues')  # Change 'Blues' to any other color map if you prefer\n",
    "plt.title(\"Confusion Matrix for XGBoost on Test Data\")\n",
    "plt.show()\n"
   ]
  },
  {
   "cell_type": "markdown",
   "id": "68f731c9",
   "metadata": {},
   "source": [
    "### Claims Prediction Analysis\n",
    "\n",
    "Given the following claims data:\n",
    "\n",
    "- **Out of 219,292 claims**:\n",
    "  - **Predicted Paid Claims**: 205,058\n",
    "  - **Actual Paid Claims**: 205,030\n",
    "  - **Misclassified Paid Claims**: 29\n",
    "  - **Predicted Declined Claims**: 14,234\n",
    "  - **Actual Declined Claims**: 12,981\n",
    "  - **Misclassified Declined Claims**: 1,253\n",
    "\n",
    "#### Calculations\n",
    "\n",
    "1. **True Positives (TP)**: Correctly predicted paid claims  \n",
    "   $$ TP = 205,030 - 29 = 205,001 $$\n",
    "\n",
    "2. **False Negatives (FN)**: Incorrectly predicted declined claims  \n",
    "   $$ FN = 29 $$\n",
    "\n",
    "3. **True Negatives (TN)**: Correctly predicted declined claims  \n",
    "   $$ TN = 12,981 - 1,253 = 11,728 $$\n",
    "\n",
    "4. **False Positives (FP)**: Incorrectly predicted paid claims  \n",
    "   $$ FP = 1,253 $$\n",
    "\n",
    "#### Accuracy Calculation\n",
    "\n",
    "The accuracy is calculated as follows:\n",
    "\n",
    "$$\n",
    "\\text{Accuracy} = \\frac{205,001 + 11,728}{219,292}\n",
    "$$\n",
    "\n",
    "**Final Accuracy**:  \n",
    "$$\n",
    "\\text{Accuracy} \\approx 0.9876 \\text{ or } 98.76\\%\n",
    "$$\n"
   ]
  },
  {
   "cell_type": "markdown",
   "id": "479eecdb",
   "metadata": {},
   "source": [
    "```\n",
    "```"
   ]
  },
  {
   "cell_type": "markdown",
   "id": "81d686de",
   "metadata": {},
   "source": [
    "```\n",
    "```"
   ]
  },
  {
   "cell_type": "markdown",
   "id": "3fd5b988",
   "metadata": {},
   "source": [
    "```\n",
    "```"
   ]
  },
  {
   "cell_type": "markdown",
   "id": "fd1abbb7",
   "metadata": {},
   "source": [
    "```\n",
    "```"
   ]
  },
  {
   "cell_type": "markdown",
   "id": "b7e913cf",
   "metadata": {},
   "source": [
    "\n",
    "```\n",
    "```"
   ]
  },
  {
   "cell_type": "markdown",
   "id": "a232eb81",
   "metadata": {},
   "source": [
    "#  Linear Regression"
   ]
  },
  {
   "cell_type": "code",
   "execution_count": 140,
   "id": "f97f63e0",
   "metadata": {},
   "outputs": [],
   "source": [
    "import pandas as pd\n",
    "import numpy as np\n",
    "from sklearn.model_selection import train_test_split, KFold\n",
    "from sklearn.preprocessing import StandardScaler, OneHotEncoder\n",
    "from sklearn.linear_model import LogisticRegression\n",
    "from sklearn.metrics import accuracy_score\n",
    "from imblearn.over_sampling import SMOTE\n",
    "import os\n"
   ]
  },
  {
   "cell_type": "code",
   "execution_count": 141,
   "id": "c16edb6d",
   "metadata": {},
   "outputs": [],
   "source": [
    "# Assuming `filtered_df` is your main DataFrame with data ready for modeling\n",
    "X = filtered_df.drop(columns=['INVOICELINEUSERSTATUS'])\n",
    "y = filtered_df['INVOICELINEUSERSTATUS'].map({'Paid': 0, 'NP - Not to be Paid': 1})  # Convert to binary\n"
   ]
  },
  {
   "cell_type": "code",
   "execution_count": 142,
   "id": "15224849",
   "metadata": {},
   "outputs": [],
   "source": [
    "X_train, X_test, y_train, y_test = train_test_split(X, y, test_size=0.2, random_state=42, stratify=y)\n"
   ]
  },
  {
   "cell_type": "code",
   "execution_count": 143,
   "id": "b149623f",
   "metadata": {},
   "outputs": [],
   "source": [
    "smote = SMOTE(random_state=42)\n",
    "X_train_resampled, y_train_resampled = smote.fit_resample(X_train, y_train)\n"
   ]
  },
  {
   "cell_type": "code",
   "execution_count": 144,
   "id": "7c174b3e",
   "metadata": {},
   "outputs": [],
   "source": [
    "scaler = StandardScaler()\n",
    "X_train_resampled = scaler.fit_transform(X_train_resampled)\n",
    "X_test = scaler.transform(X_test)\n"
   ]
  },
  {
   "cell_type": "code",
   "execution_count": 145,
   "id": "bc48201e",
   "metadata": {
    "scrolled": true
   },
   "outputs": [
    {
     "name": "stdout",
     "output_type": "stream",
     "text": [
      "Fold 1 Accuracy: 0.972494591421031\n",
      "Fold 2 Accuracy: 0.9741898458413408\n",
      "Fold 3 Accuracy: 0.9734195185308243\n",
      "Fold 4 Accuracy: 0.9740915818406983\n",
      "Fold 5 Accuracy: 0.9735705439937173\n",
      "Average K-Fold Accuracy: 0.9735532163255224\n"
     ]
    }
   ],
   "source": [
    "kf = KFold(n_splits=5, shuffle=True, random_state=42)\n",
    "accuracies = []\n",
    "\n",
    "for fold, (train_index, val_index) in enumerate(kf.split(X_train_resampled), start=1):\n",
    "    X_k_train, X_k_val = X_train_resampled[train_index], X_train_resampled[val_index]\n",
    "    y_k_train, y_k_val = y_train_resampled.iloc[train_index], y_train_resampled.iloc[val_index]\n",
    "\n",
    "    # Create and train the logistic regression model\n",
    "    model = LogisticRegression(random_state=42, max_iter=1000)\n",
    "    model.fit(X_k_train, y_k_train)\n",
    "\n",
    "    # Evaluate the model\n",
    "    val_accuracy = model.score(X_k_val, y_k_val)\n",
    "    accuracies.append(val_accuracy)\n",
    "\n",
    "    print(f\"Fold {fold} Accuracy: {val_accuracy}\")\n",
    "\n",
    "# Output the average accuracy across folds\n",
    "print(f'Average K-Fold Accuracy: {np.mean(accuracies)}')\n"
   ]
  },
  {
   "cell_type": "markdown",
   "id": "22441027",
   "metadata": {},
   "source": [
    "##### make predictions"
   ]
  },
  {
   "cell_type": "code",
   "execution_count": 147,
   "id": "48cb7f48",
   "metadata": {},
   "outputs": [
    {
     "name": "stdout",
     "output_type": "stream",
     "text": [
      "Predictions saved to DL_deep_with_predictions.csv\n"
     ]
    }
   ],
   "source": [
    "# Load DL_deep.csv for predictions\n",
    "df_predict = pd.read_csv(\"DL_deep.csv\")\n",
    "\n",
    "# Select relevant columns and preprocess them as in the training data\n",
    "columns_to_keep = [\n",
    "    \"ORIGINALINVOICEGROSSAMOUNT\", \n",
    "    \"RECOVEREDAMOUNT\", \n",
    "    \"RECOVERYDISCOUNTPBC\", \n",
    "    \"NHIFAMOUNTPBC\", \n",
    "    \"INVLINEPBCDISCOUNTAMOUNT\", \n",
    "    \"INVLINEPBCDENIEDAMOUNT\", \n",
    "    \"BENEFITEXCESSAPPLIED\", \n",
    "    \"INVOICEDAMOUNT\", \n",
    "    \"SETTLEDAMOUNT\", \n",
    "    \"INVOICELINEUSERSTATUS\", \n",
    "    \"INVOICECURRENCYDENIEDAMOUNT\", \n",
    "    \"ReasonText\"\n",
    "]\n",
    "df_predict = df_predict[columns_to_keep]\n",
    "\n",
    "# Process ReasonText to extract prescribed amount\n",
    "df_predict['Prescribed Amount'] = df_predict['ReasonText'].apply(extract_prescribed_amount)\n",
    "df_predict['Prescribed Amount'] = pd.to_numeric(df_predict['Prescribed Amount'], errors='coerce')\n",
    "df_predict['Variance'] = df_predict['INVOICEDAMOUNT'] - df_predict['Prescribed Amount']\n",
    "df_predict = df_predict.drop(columns=[\"ReasonText\"])\n",
    "\n",
    "# Handle missing values\n",
    "for col in df_predict.select_dtypes(include=['object']).columns:\n",
    "    df_predict[col].fillna(df_predict[col].mode()[0], inplace=True)\n",
    "for col in df_predict.select_dtypes(exclude=['object']).columns:\n",
    "    df_predict[col].fillna(df_predict[col].mean(), inplace=True)\n",
    "\n",
    "# Prepare the input data for prediction and scale it\n",
    "X_predict = df_predict.drop(columns=['INVOICELINEUSERSTATUS'], errors='ignore')\n",
    "X_predict_scaled = scaler.transform(X_predict)\n",
    "\n",
    "# Make predictions\n",
    "predictions = model.predict(X_predict_scaled)\n",
    "\n",
    "# Add binary predictions to the original DataFrame\n",
    "df_predict['Predicted_INVOICELINEUSERSTATUS'] = predictions\n",
    "\n",
    "# Save to a new CSV file\n",
    "df_predict.to_csv(\"DL_deep_with_predictions2.csv\", index=False)\n",
    "print(\"Predictions saved to DL_deep_with_predictions.csv\")\n"
   ]
  },
  {
   "cell_type": "markdown",
   "id": "46bb968e",
   "metadata": {},
   "source": [
    "##### confusion matrix"
   ]
  },
  {
   "cell_type": "code",
   "execution_count": 148,
   "id": "98aa50b7",
   "metadata": {},
   "outputs": [
    {
     "name": "stdout",
     "output_type": "stream",
     "text": [
      "Confusion Matrix:\n",
      "[[156825   8711]\n",
      " [     4  10322]]\n"
     ]
    },
    {
     "data": {
      "image/png": "[encoded data removed]",
      "text/plain": [
       "<Figure size 640x480 with 2 Axes>"
      ]
     },
     "metadata": {},
     "output_type": "display_data"
    }
   ],
   "source": [
    "from sklearn.metrics import confusion_matrix, ConfusionMatrixDisplay\n",
    "import matplotlib.pyplot as plt\n",
    "# Predict on the test set\n",
    "y_test_pred = model.predict(X_test)\n",
    "\n",
    "# Compute the confusion matrix\n",
    "cm = confusion_matrix(y_test, y_test_pred)\n",
    "print(\"Confusion Matrix:\")\n",
    "print(cm)\n",
    "\n",
    "# Plot the confusion matrix\n",
    "disp = ConfusionMatrixDisplay(confusion_matrix=cm, display_labels=['Paid', 'NP - Not to be Paid'])\n",
    "disp.plot(cmap='Blues')\n",
    "plt.title(\"Confusion Matrix for Logistic Regression on Test Data\")\n",
    "plt.show()\n"
   ]
  },
  {
   "cell_type": "markdown",
   "id": "42c70073",
   "metadata": {},
   "source": [
    "### Claims Prediction Analysis\n",
    "\n",
    "Given the following claims data:\n",
    "\n",
    "- **Out of 219,292 claims**:\n",
    "  - **Predicted Paid Claims**: 199,402\n",
    "  - **Actual Paid Claims**: 199,389\n",
    "  - **Misclassified Paid Claims**: 14\n",
    "  - **Predicted Declined Claims**: 19,890\n",
    "  - **Actual Declined Claims**: 12,996\n",
    "  - **Misclassified Declined Claims**: 6,894\n",
    "\n",
    "#### Calculations\n",
    "\n",
    "1. **True Positives (TP)**: Correctly predicted paid claims  \n",
    "   $$ TP = 199,389 - 14 = 199,375 $$\n",
    "\n",
    "2. **False Negatives (FN)**: Incorrectly predicted declined claims  \n",
    "   $$ FN = 14 $$\n",
    "\n",
    "3. **True Negatives (TN)**: Correctly predicted declined claims  \n",
    "   $$ TN = 12,996 - 6,894 = 6,102 $$\n",
    "\n",
    "4. **False Positives (FP)**: Incorrectly predicted paid claims  \n",
    "   $$ FP = 6,894 $$\n",
    "\n",
    "#### Accuracy Calculation\n",
    "\n",
    "The accuracy is calculated as follows:\n",
    "\n",
    "$$\n",
    "\\text{Accuracy} = \\frac{199,375 + 6,102}{219,292}\n",
    "$$\n",
    "\n",
    "**Final Accuracy**: **93.70%**\n"
   ]
  }
 ],
 "metadata": {
  "kernelspec": {
   "display_name": "Python 3 (ipykernel)",
   "language": "python",
   "name": "python3"
  },
  "language_info": {
   "codemirror_mode": {
    "name": "ipython",
    "version": 3
   },
   "file_extension": ".py",
   "mimetype": "text/x-python",
   "name": "python",
   "nbconvert_exporter": "python",
   "pygments_lexer": "ipython3",
   "version": "3.11.5"
  }
 },
 "nbformat": 4,
 "nbformat_minor": 5
}
