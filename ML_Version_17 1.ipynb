{
 "cells": [
  {
   "cell_type": "code",
   "execution_count": null,
   "id": "e27d4ef4",
   "metadata": {},
   "outputs": [],
   "source": [
    "import pandas as pd"
   ]
  },
  {
   "cell_type": "markdown",
   "id": "c158a80d",
   "metadata": {},
   "source": [
    "#### Loading data to Data Frame"
   ]
  },
  {
   "cell_type": "code",
   "execution_count": null,
   "id": "c4443f84",
   "metadata": {},
   "outputs": [],
   "source": [
    "df_clean = pd.read_csv(\"ClaimsRegister.csv\")"
   ]
  },
  {
   "cell_type": "markdown",
   "id": "1040aeec",
   "metadata": {},
   "source": [
    "#### Dropping unnecessary columns"
   ]
  },
  {
   "cell_type": "code",
   "execution_count": null,
   "id": "00192f24",
   "metadata": {},
   "outputs": [],
   "source": [
    "# List of columns to keep\n",
    "columns_to_keep = [ \n",
    "    \"ORIGINALINVOICEGROSSAMOUNT\", \n",
    "    \"RECOVEREDAMOUNT\", \n",
    "    \"RECOVERYDISCOUNTPBC\", \n",
    "    \"NHIFAMOUNTPBC\", \n",
    "    \"INVLINEPBCDISCOUNTAMOUNT\", \n",
    "    \"INVLINEPBCDENIEDAMOUNT\", \n",
    "    \"BENEFITEXCESSAPPLIED\", \n",
    "    \"INVOICEDAMOUNT\", \n",
    "    \"SETTLEDAMOUNT\", \n",
    "    \"INVOICELINEUSERSTATUS\", \n",
    "    \"INVOICECURRENCYDENIEDAMOUNT\", \n",
    "    \"ReasonText\"\n",
    "]\n",
    "\n",
    "# Filter the DataFrame to keep only the specified columns\n",
    "df_clean = df_clean[columns_to_keep]\n",
    "\n",
    "# Display the updated DataFrame\n",
    "df_clean.head()\n"
   ]
  },
  {
   "cell_type": "markdown",
   "id": "9a673f66",
   "metadata": {},
   "source": [
    "#### Extracting Variance and Prescribed Amount"
   ]
  },
  {
   "cell_type": "code",
   "execution_count": null,
   "id": "80ccf0fe",
   "metadata": {},
   "outputs": [],
   "source": [
    "import regex as re\n",
    "# We create a function extract_prescribed_amount that uses regular expressions to find and extract text between = and ). This function:\n",
    "def extract_prescribed_amount(text):\n",
    "    if isinstance(text, str):  # Check if the input is a string\n",
    "        match = re.search(r'=(.*?)\\)', text)\n",
    "        if match:\n",
    "            return match.group(1).strip()  # Extract the amount and strip extra spaces\n",
    "    return None  # Return None if input is not a string or no match is found\n",
    "\n",
    "# Apply the function\n",
    "df_clean['Prescribed Amount'] = df_clean['ReasonText'].apply(extract_prescribed_amount)\n",
    "\n",
    "# Convert 'Prescribed Amount' to numeric, forcing errors to NaN (if any non-numeric values are present)\n",
    "df_clean['Prescribed Amount'] = pd.to_numeric(df_clean['Prescribed Amount'], errors='coerce')\n",
    "\n",
    "# Calculate the 'Variance' column\n",
    "df_clean['Variance'] = df_clean['INVOICEDAMOUNT'] - df_clean['Prescribed Amount']\n"
   ]
  },
  {
   "cell_type": "code",
   "execution_count": null,
   "id": "53bc0f82",
   "metadata": {},
   "outputs": [],
   "source": [
    "# Drop \"ReasonText\"\n",
    "df_clean = df_clean.drop(columns=[\"ReasonText\"])"
   ]
  },
  {
   "cell_type": "markdown",
   "id": "a435fc87",
   "metadata": {},
   "source": [
    "####  Filling missing values with mode for categorical values and mean for numerical values"
   ]
  },
  {
   "cell_type": "code",
   "execution_count": null,
   "id": "3463eaaa",
   "metadata": {},
   "outputs": [],
   "source": [
    "# Fill object (categorical) columns with mode\n",
    "for col in df_clean.select_dtypes(include=['object']).columns:\n",
    "    df_clean[col].fillna(df_clean[col].mode()[0], inplace=True)\n",
    "\n",
    "# Fill non-object (numerical) columns with mean\n",
    "for col in df_clean.select_dtypes(exclude=['object']).columns:\n",
    "    df_clean[col].fillna(df_clean[col].mean(), inplace=True)\n",
    "\n",
    "# Check again for null values\n",
    "null_values_after_fill = df_clean.isnull().sum()\n",
    "\n",
    "# Display the count of null values for each column after filling\n",
    "null_values_after_fill\n"
   ]
  },
  {
   "cell_type": "code",
   "execution_count": null,
   "id": "899659de",
   "metadata": {},
   "outputs": [],
   "source": [
    "# Check data types\n",
    "print(df_clean.dtypes)\n"
   ]
  },
  {
   "cell_type": "markdown",
   "id": "31d45c50",
   "metadata": {},
   "source": [
    "#### Filtering the original data which reduces to 879,307  rows out of which 827,677  are paid and 51630 are declined"
   ]
  },
  {
   "cell_type": "code",
   "execution_count": null,
   "id": "b016c489",
   "metadata": {},
   "outputs": [],
   "source": [
    "# Filter the DataFrame based on the INVOICELINEUSERSTATUS column\n",
    "filtered_df = df_clean[df_clean['INVOICELINEUSERSTATUS'].isin(['Paid', 'NP - Not to be Paid'])]"
   ]
  },
  {
   "cell_type": "markdown",
   "id": "a08b8dd2",
   "metadata": {},
   "source": [
    "```\n",
    "```"
   ]
  },
  {
   "cell_type": "markdown",
   "id": "3d126e4c",
   "metadata": {},
   "source": [
    "```\n",
    "```"
   ]
  },
  {
   "cell_type": "markdown",
   "id": "dae1e640",
   "metadata": {},
   "source": [
    "```\n",
    "```\n",
    "# Deep Learning Model"
   ]
  },
  {
   "cell_type": "markdown",
   "id": "632540b9",
   "metadata": {},
   "source": [
    "#### Loading necesssary libraries"
   ]
  },
  {
   "cell_type": "code",
   "execution_count": null,
   "id": "aa2a220f",
   "metadata": {},
   "outputs": [],
   "source": [
    "import pandas as pd\n",
    "import numpy as np\n",
    "from sklearn.model_selection import train_test_split, KFold\n",
    "from sklearn.preprocessing import OneHotEncoder\n",
    "from imblearn.over_sampling import SMOTE\n",
    "from tensorflow import keras\n",
    "from tensorflow.keras import layers\n",
    "from sklearn.model_selection import KFold"
   ]
  },
  {
   "cell_type": "markdown",
   "id": "e7570c25",
   "metadata": {},
   "source": [
    "#### Defining Target"
   ]
  },
  {
   "cell_type": "code",
   "execution_count": null,
   "id": "bef6a19d",
   "metadata": {},
   "outputs": [],
   "source": [
    "# Separate features and target variable\n",
    "X = filtered_df.drop(columns=['INVOICELINEUSERSTATUS'])\n",
    "y = filtered_df['INVOICELINEUSERSTATUS'].map({'Paid': 0, 'NP - Not to be Paid': 1})  # Convert to binary\n"
   ]
  },
  {
   "cell_type": "markdown",
   "id": "1138437c",
   "metadata": {},
   "source": [
    "#### Train/test split using cross-validation while applying SMOTE during the training process"
   ]
  },
  {
   "cell_type": "code",
   "execution_count": null,
   "id": "4149e10b",
   "metadata": {},
   "outputs": [],
   "source": [
    "# Number of splits for K-Fold\n",
    "k = 5\n",
    "kf = KFold(n_splits=k, shuffle=True, random_state=42)\n",
    "\n",
    "# Lists to store the results\n",
    "accuracy_scores = []\n",
    "\n",
    "# Loop over each fold\n",
    "for train_index, test_index in kf.split(X):\n",
    "    X_train, X_test = X[train_index], X[test_index]\n",
    "    y_train, y_test = y[train_index], y[test_index]\n",
    "    \n",
    "    # Apply SMOTE to the training data\n",
    "    smote = SMOTE(random_state=42)\n",
    "    X_train_resampled, y_train_resampled = smote.fit_resample(X_train, y_train)"
   ]
  },
  {
   "cell_type": "markdown",
   "id": "8437361c",
   "metadata": {},
   "source": [
    "#### neural network model using Keras for binary classification"
   ]
  },
  {
   "cell_type": "code",
   "execution_count": null,
   "id": "db28d6ca",
   "metadata": {},
   "outputs": [],
   "source": [
    "def create_model(input_shape):\n",
    "    model = keras.Sequential([\n",
    "        layers.Input(shape=input_shape),\n",
    "        layers.Dense(64, activation='relu'),\n",
    "        layers.Dropout(0.5),\n",
    "        layers.BatchNormalization(),\n",
    "        layers.Dense(32, activation='relu'),\n",
    "        layers.Dropout(0.5),\n",
    "        layers.BatchNormalization(),\n",
    "        layers.Dense(1, activation='sigmoid')\n",
    "    ])\n",
    "    model.compile(optimizer='adam', loss='binary_crossentropy', metrics=['accuracy'])\n",
    "    return model\n"
   ]
  },
  {
   "cell_type": "markdown",
   "id": "52e8ac9b",
   "metadata": {},
   "source": [
    "#### K-Fold cross-validation implementation"
   ]
  },
  {
   "cell_type": "code",
   "execution_count": null,
   "id": "6aadf76b",
   "metadata": {},
   "outputs": [],
   "source": [
    "from sklearn.model_selection import KFold\n",
    "import os\n",
    "\n",
    "# Ensure the 'models' directory exists for saving the models\n",
    "os.makedirs(\"models\", exist_ok=True)\n",
    "\n",
    "# Set up K-fold cross-validation\n",
    "kf = KFold(n_splits=5, shuffle=True, random_state=42)\n",
    "accuracies = []\n",
    "\n",
    "for fold, (train_index, val_index) in enumerate(kf.split(X_train_resampled), start=1):\n",
    "    # Use iloc to index rows based on integer positions\n",
    "    X_k_train, X_k_val = X_train_resampled.iloc[train_index], X_train_resampled.iloc[val_index]\n",
    "    y_k_train, y_k_val = y_train_resampled.iloc[train_index], y_train_resampled.iloc[val_index]\n",
    "\n",
    "    # Create and train the model\n",
    "    model = create_model(input_shape=(X_k_train.shape[1],))\n",
    "    model.fit(X_k_train, y_k_train, epochs=10, batch_size=32, verbose=1)\n",
    "\n",
    "    # Evaluate the model\n",
    "    val_loss, val_accuracy = model.evaluate(X_k_val, y_k_val)\n",
    "    accuracies.append(val_accuracy)\n",
    "\n",
    "    # Save the model for this fold\n",
    "    model.save(f\"models/model_fold_{fold}.h5\")\n",
    "    print(f\"Model for fold {fold} saved.\")\n",
    "\n",
    "# Output the average accuracy across folds\n",
    "print(f'Average K-Fold Accuracy: {np.mean(accuracies)}')\n"
   ]
  },
  {
   "cell_type": "markdown",
   "id": "86924738",
   "metadata": {},
   "source": [
    "# Predictions"
   ]
  },
  {
   "cell_type": "markdown",
   "id": "4813e330",
   "metadata": {},
   "source": [
    "#### Loading DL_deep.csv for prediction"
   ]
  },
  {
   "cell_type": "code",
   "execution_count": 182,
   "id": "12397337",
   "metadata": {},
   "outputs": [
    {
     "name": "stderr",
     "output_type": "stream",
     "text": [
      "WARNING:absl:Compiled the loaded model, but the compiled metrics have yet to be built. `model.compile_metrics` will be empty until you train or evaluate the model.\n"
     ]
    },
    {
     "name": "stdout",
     "output_type": "stream",
     "text": [
      "\u001b[1m7674/7674\u001b[0m \u001b[32m━━━━━━━━━━━━━━━━━━━━\u001b[0m\u001b[37m\u001b[0m \u001b[1m13s\u001b[0m 2ms/step\n",
      "Predictions saved to DL_deep_with_predictions.csv\n"
     ]
    }
   ],
   "source": [
    "# Load DL_deep.csv for predictions\n",
    "    df_predict = pd.read_csv(\"DL_deep.csv\")\n",
    "\n",
    "# Keep only relevant columns\n",
    "columns_to_keep = [\n",
    "    \"ORIGINALINVOICEGROSSAMOUNT\", \n",
    "    \"RECOVEREDAMOUNT\", \n",
    "    \"RECOVERYDISCOUNTPBC\", \n",
    "    \"NHIFAMOUNTPBC\", \n",
    "    \"INVLINEPBCDISCOUNTAMOUNT\", \n",
    "    \"INVLINEPBCDENIEDAMOUNT\", \n",
    "    \"BENEFITEXCESSAPPLIED\", \n",
    "    \"INVOICEDAMOUNT\", \n",
    "    \"SETTLEDAMOUNT\", \n",
    "    \"INVOICELINEUSERSTATUS\", \n",
    "    \"INVOICECURRENCYDENIEDAMOUNT\", \n",
    "    \"ReasonText\"\n",
    "]\n",
    "df_predict = df_predict[columns_to_keep]\n",
    "\n",
    "# Process ReasonText to extract prescribed amount\n",
    "df_predict['Prescribed Amount'] = df_predict['ReasonText'].apply(extract_prescribed_amount)\n",
    "df_predict['Prescribed Amount'] = pd.to_numeric(df_predict['Prescribed Amount'], errors='coerce')\n",
    "df_predict['Variance'] = df_predict['INVOICEDAMOUNT'] - df_predict['Prescribed Amount']\n",
    "df_predict = df_predict.drop(columns=[\"ReasonText\"])\n",
    "\n",
    "# Handle missing values\n",
    "for col in df_predict.select_dtypes(include=['object']).columns:\n",
    "    df_predict[col].fillna(df_predict[col].mode()[0], inplace=True)\n",
    "for col in df_predict.select_dtypes(exclude=['object']).columns:\n",
    "    df_predict[col].fillna(df_predict[col].mean(), inplace=True)\n",
    "\n",
    "# Load a pre-trained model and make predictions\n",
    "from tensorflow.keras.models import load_model\n",
    "model = load_model(\"models/model_fold_2.h5\")  # Load one of the trained models\n",
    "\n",
    "# Prepare input data for prediction and make predictions\n",
    "X_predict = df_predict.drop(columns=['INVOICELINEUSERSTATUS'], errors='ignore')\n",
    "predictions = model.predict(X_predict)\n",
    "\n",
    "# Apply a threshold to get binary predictions\n",
    "binary_predictions = (predictions > 0.5).astype(int)\n",
    "\n",
    "# Add binary predictions to the original DataFrame\n",
    "df_predict['Predicted_INVOICELINEUSERSTATUS'] = binary_predictions\n",
    "\n",
    "# Save to a new CSV file\n",
    "df_predict.to_csv(\"DL_deep_with_predictions4.csv\", index=False)\n",
    "print(\"Predictions saved to DL_deep_with_predictions.csv\")\n"
   ]
  },
  {
   "cell_type": "markdown",
   "id": "dc1364e4",
   "metadata": {},
   "source": [
    "#### Analysis of the findings"
   ]
  },
  {
   "cell_type": "code",
   "execution_count": 186,
   "id": "e2910e3c",
   "metadata": {},
   "outputs": [
    {
     "name": "stdout",
     "output_type": "stream",
     "text": [
      "Confusion Matrix:\n",
      "[[ 11175   1826]\n",
      " [     9 204447]]\n"
     ]
    },
    {
     "data": {
      "image/png": "[encoded data removed]",
      "text/plain": [
       "<Figure size 640x480 with 2 Axes>"
      ]
     },
     "metadata": {},
     "output_type": "display_data"
    }
   ],
   "source": [
    "from sklearn.metrics import confusion_matrix, ConfusionMatrixDisplay\n",
    "import matplotlib.pyplot as plt\n",
    "import numpy as np\n",
    "\n",
    "# Actual and predicted values based on your analysis\n",
    "# y_true consists of actual labels\n",
    "y_true = np.array([1] * 204_456 + [0] * 13_001)  # 1 for paid, 0 for declined\n",
    "\n",
    "# y_pred consists of predicted labels\n",
    "y_pred = np.array([1] * 204_447 + [0] * 9 + [1] * 1_826 + [0] * 11_175)  # Predictions\n",
    "\n",
    "# Generate the confusion matrix\n",
    "cm = confusion_matrix(y_true, y_pred)\n",
    "print(\"Confusion Matrix:\")\n",
    "print(cm)\n",
    "\n",
    "# Display the confusion matrix with a heatmap\n",
    "disp = ConfusionMatrixDisplay(confusion_matrix=cm, display_labels=['Declined (0)', 'Paid (1)'])\n",
    "disp.plot(cmap='Blues')  # Change 'Blues' to any other color map if you prefer\n",
    "plt.title(\"Confusion Matrix for Claims Prediction\")\n",
    "plt.show()\n"
   ]
  },
  {
   "cell_type": "markdown",
   "id": "2ccb1af2",
   "metadata": {},
   "source": [
    "### Claims Prediction Analysis\n",
    "\n",
    "Given the following claims data:\n",
    "\n",
    "- **Out of 219,292 claims**:\n",
    "  - **Predicted Paid Claims**: 204,465\n",
    "  - **Actual Paid Claims**: 204,456\n",
    "  - **Misclassified Paid Claims**: 9\n",
    "  - **Predicted Declined Claims**: 14,827\n",
    "  - **Actual Declined Claims**: 13,001\n",
    "  - **Misclassified Declined Claims**: 1,826\n",
    "\n",
    "#### Calculations\n",
    "\n",
    "1. **True Positives (TP)**: Correctly predicted paid claims  \n",
    "   $$ TP = 204,456 - 9 = 204,447 $$\n",
    "\n",
    "2. **False Negatives (FN)**: Incorrectly predicted declined claims  \n",
    "   $$ FN = 9 $$\n",
    "\n",
    "3. **True Negatives (TN)**: Correctly predicted declined claims  \n",
    "   $$ TN = 13,001 - 1,826 = 11,175 $$\n",
    "\n",
    "4. **False Positives (FP)**: Incorrectly predicted paid claims  \n",
    "   $$ FP = 1,826 $$\n",
    "\n",
    "#### Accuracy Calculation\n",
    "\n",
    "The accuracy is calculated as follows:\n",
    "\n",
    "$$\n",
    "\\text{Accuracy} = \\frac{204,447 + 11,175}{219,292}\n",
    "$$\n",
    "\n",
    "**Final Accuracy**:  \n",
    "$$\n",
    "\\text{Accuracy} \\approx 0.9770 \\text{ or } 97.70\\%\n",
    "$$\n"
   ]
  },
  {
   "cell_type": "markdown",
   "id": "18a7b776",
   "metadata": {},
   "source": [
    "```\n",
    "```"
   ]
  },
  {
   "cell_type": "markdown",
   "id": "b62b29e3",
   "metadata": {},
   "source": [
    "```\n",
    "```"
   ]
  },
  {
   "cell_type": "markdown",
   "id": "c7d76535",
   "metadata": {},
   "source": [
    "```\n",
    "```"
   ]
  },
  {
   "cell_type": "markdown",
   "id": "73041b7e",
   "metadata": {},
   "source": [
    "```\n",
    "```"
   ]
  },
  {
   "cell_type": "markdown",
   "id": "383c267e",
   "metadata": {},
   "source": [
    "```\n",
    "```"
   ]
  },
  {
   "cell_type": "markdown",
   "id": "344b3b3b",
   "metadata": {},
   "source": [
    "```\n",
    "```\n",
    "\n",
    "# XGBoost"
   ]
  },
  {
   "cell_type": "markdown",
   "id": "ee09822a",
   "metadata": {},
   "source": [
    "#### Loading the original df for cross validation"
   ]
  },
  {
   "cell_type": "code",
   "execution_count": 149,
   "id": "a5ce5bd1",
   "metadata": {},
   "outputs": [],
   "source": [
    "import pandas as pd\n",
    "import numpy as np\n",
    "from sklearn.model_selection import KFold\n",
    "from imblearn.over_sampling import SMOTE\n",
    "from sklearn.metrics import accuracy_score\n",
    "from xgboost import XGBClassifier\n",
    "\n",
    "# Separate features and target variable\n",
    "X = filtered_df.drop(columns=['INVOICELINEUSERSTATUS'])\n",
    "y = filtered_df['INVOICELINEUSERSTATUS'].map({'Paid': 0, 'NP - Not to be Paid': 1})  # Convert to binary\n",
    "\n",
    "# Set up K-Fold cross-validation\n",
    "kf = KFold(n_splits=5, shuffle=True, random_state=42)\n",
    "\n",
    "# Initialize the XGBClassifier\n",
    "xgb_model = XGBClassifier(use_label_encoder=False, eval_metric='logloss')\n",
    "\n",
    "# Initialize lists to store accuracy scores\n",
    "accuracy_scores = []\n",
    "\n",
    "# Perform K-Fold Cross-Validation\n",
    "for train_index, val_index in kf.split(X):\n",
    "    X_train, X_val = X.iloc[train_index], X.iloc[val_index]\n",
    "    y_train, y_val = y.iloc[train_index], y.iloc[val_index]\n",
    "\n",
    "    # Apply SMOTE to the training data\n",
    "    smote = SMOTE(random_state=42)\n",
    "    X_train_resampled, y_train_resampled = smote.fit_resample(X_train, y_train)\n"
   ]
  },
  {
   "cell_type": "markdown",
   "id": "66c75bd9",
   "metadata": {},
   "source": [
    "#### Searching for the best parameters"
   ]
  },
  {
   "cell_type": "code",
   "execution_count": 150,
   "id": "33206fbc",
   "metadata": {},
   "outputs": [
    {
     "name": "stdout",
     "output_type": "stream",
     "text": [
      "Fitting 5 folds for each of 648 candidates, totalling 3240 fits\n"
     ]
    },
    {
     "name": "stderr",
     "output_type": "stream",
     "text": [
      "C:\\Users\\Pathways\\anaconda3\\Lib\\site-packages\\numpy\\ma\\core.py:2820: RuntimeWarning: invalid value encountered in cast\n",
      "  _data = np.array(data, dtype=dtype, copy=copy,\n"
     ]
    },
    {
     "name": "stdout",
     "output_type": "stream",
     "text": [
      "Best parameters: {'colsample_bytree': 1, 'gamma': 0.1, 'learning_rate': 0.2, 'max_depth': 7, 'n_estimators': 200, 'reg_alpha': 0.1, 'subsample': 0.8}\n"
     ]
    }
   ],
   "source": [
    "# Define the parameter grid\n",
    "param_grid = {\n",
    "    'n_estimators': [100, 200],\n",
    "    'learning_rate': [0.01, 0.1, 0.2],\n",
    "    'max_depth': [3, 5, 7],\n",
    "    'subsample': [0.8, 1],\n",
    "    'colsample_bytree': [0.8, 1],\n",
    "    'gamma': [0, 0.1, 0.3],\n",
    "    'reg_alpha': [0, 0.1, 0.5]\n",
    "}\n",
    "\n",
    "# Initialize XGBClassifier\n",
    "xgb_clf = XGBClassifier(objective='binary:logistic', use_label_encoder=False, eval_metric='logloss')\n",
    "\n",
    "# Set up GridSearchCV\n",
    "grid_search = GridSearchCV(\n",
    "    estimator=xgb_clf,\n",
    "    param_grid=param_grid,\n",
    "    scoring='accuracy',\n",
    "    cv=5,\n",
    "    verbose=1,\n",
    "    n_jobs=-1\n",
    ")\n",
    "\n",
    "# Fit the grid search to the training data\n",
    "grid_search.fit(X_train_resampled, y_train_resampled)\n",
    "\n",
    "# Print best parameters\n",
    "print(\"Best parameters:\", grid_search.best_params_)\n",
    "best_model = grid_search.best_estimator_\n"
   ]
  },
  {
   "cell_type": "markdown",
   "id": "e4a4d508",
   "metadata": {},
   "source": [
    "#### using the best parameters for our model to make a predictions on DL_deep.csv"
   ]
  },
  {
   "cell_type": "code",
   "execution_count": 166,
   "id": "3aae9ed5",
   "metadata": {},
   "outputs": [
    {
     "name": "stdout",
     "output_type": "stream",
     "text": [
      "Test Accuracy: 0.9920562713946163\n",
      "Predictions saved to DL_deep_with_predictions3.csv\n"
     ]
    }
   ],
   "source": [
    "from xgboost import XGBClassifier\n",
    "from sklearn.metrics import accuracy_score\n",
    "import pandas as pd\n",
    "\n",
    "# Define the model with specific parameters\n",
    "xgb_model = XGBClassifier(\n",
    "    objective='binary:logistic',\n",
    "    use_label_encoder=False,\n",
    "    eval_metric='logloss',\n",
    "    colsample_bytree=1,\n",
    "    gamma=0.1,\n",
    "    learning_rate=0.2,\n",
    "    max_depth=7,\n",
    "    n_estimators=200,\n",
    "    reg_alpha=0.1,\n",
    "    subsample=0.8\n",
    ")\n",
    "\n",
    "# Train the model on the resampled training data\n",
    "xgb_model.fit(X_train_resampled, y_train_resampled)\n",
    "\n",
    "# Predict on the test set\n",
    "y_pred = xgb_model.predict(X_test)\n",
    "\n",
    "# Calculate and print the accuracy\n",
    "accuracy = accuracy_score(y_test, y_pred)\n",
    "print(\"Test Accuracy:\", accuracy)\n",
    "\n",
    "# Load new data for predictions\n",
    "df_predict = pd.read_csv(\"DL_deep.csv\")\n",
    "\n",
    "# Keep only relevant columns and process them similarly\n",
    "columns_to_keep = [\n",
    "    \"ORIGINALINVOICEGROSSAMOUNT\", \n",
    "    \"RECOVEREDAMOUNT\", \n",
    "    \"RECOVERYDISCOUNTPBC\", \n",
    "    \"NHIFAMOUNTPBC\", \n",
    "    \"INVLINEPBCDISCOUNTAMOUNT\", \n",
    "    \"INVLINEPBCDENIEDAMOUNT\", \n",
    "    \"BENEFITEXCESSAPPLIED\", \n",
    "    \"INVOICEDAMOUNT\", \n",
    "    \"SETTLEDAMOUNT\", \n",
    "    \"INVOICELINEUSERSTATUS\", \n",
    "    \"INVOICECURRENCYDENIEDAMOUNT\", \n",
    "    \"ReasonText\"\n",
    "]\n",
    "df_predict = df_predict[columns_to_keep]\n",
    "\n",
    "# Process ReasonText to extract prescribed amount\n",
    "df_predict['Prescribed Amount'] = df_predict['ReasonText'].apply(extract_prescribed_amount)\n",
    "df_predict['Prescribed Amount'] = pd.to_numeric(df_predict['Prescribed Amount'], errors='coerce')\n",
    "df_predict['Variance'] = df_predict['INVOICEDAMOUNT'] - df_predict['Prescribed Amount']\n",
    "df_predict = df_predict.drop(columns=[\"ReasonText\"])\n",
    "\n",
    "# Handle missing values\n",
    "for col in df_predict.select_dtypes(include=['object']).columns:\n",
    "    df_predict[col].fillna(df_predict[col].mode()[0], inplace=True)\n",
    "for col in df_predict.select_dtypes(exclude=['object']).columns:\n",
    "    df_predict[col].fillna(df_predict[col].mean(), inplace=True)\n",
    "\n",
    "# Prepare the input data for prediction\n",
    "X_predict = df_predict.drop(columns=['INVOICELINEUSERSTATUS'], errors='ignore')\n",
    "\n",
    "# Make predictions with the tuned model\n",
    "predictions = xgb_model.predict(X_predict)\n",
    "\n",
    "# Add predictions to the DataFrame\n",
    "df_predict['Predicted_INVOICELINEUSERSTATUS'] = predictions\n",
    "\n",
    "# Save predictions to a new CSV file\n",
    "df_predict.to_csv(\"DL_deep_with_predictions3.csv\", index=False)\n",
    "print(\"Predictions saved to DL_deep_with_predictions3.csv\")\n"
   ]
  },
  {
   "cell_type": "markdown",
   "id": "34843069",
   "metadata": {},
   "source": [
    "#### Analysis of the findings"
   ]
  },
  {
   "cell_type": "code",
   "execution_count": 187,
   "id": "87564843",
   "metadata": {},
   "outputs": [
    {
     "name": "stdout",
     "output_type": "stream",
     "text": [
      "Confusion Matrix:\n",
      "[[ 11728   1253]\n",
      " [    29 205001]]\n"
     ]
    },
    {
     "data": {
      "image/png": "[encoded data removed]",
      "text/plain": [
       "<Figure size 640x480 with 2 Axes>"
      ]
     },
     "metadata": {},
     "output_type": "display_data"
    }
   ],
   "source": [
    "from sklearn.metrics import confusion_matrix, ConfusionMatrixDisplay\n",
    "import matplotlib.pyplot as plt\n",
    "import numpy as np\n",
    "\n",
    "# Actual and predicted values based on your analysis\n",
    "# y_true consists of actual labels\n",
    "y_true = np.array([1] * 205_030 + [0] * 12_981)  # 1 for paid, 0 for declined\n",
    "\n",
    "# y_pred consists of predicted labels\n",
    "y_pred = np.array([1] * 205_001 + [0] * 11_728 + [1] * 1_253 + [0] * 29)  # Predictions\n",
    "\n",
    "# Generate the confusion matrix\n",
    "cm = confusion_matrix(y_true, y_pred)\n",
    "print(\"Confusion Matrix:\")\n",
    "print(cm)\n",
    "\n",
    "# Display the confusion matrix with a heatmap\n",
    "disp = ConfusionMatrixDisplay(confusion_matrix=cm, display_labels=['Declined (0)', 'Paid (1)'])\n",
    "disp.plot(cmap='Blues')  # Change 'Blues' to any other color map if you prefer\n",
    "plt.title(\"Confusion Matrix for Claims Prediction\")\n",
    "plt.show()\n"
   ]
  },
  {
   "cell_type": "markdown",
   "id": "ea1f5b87",
   "metadata": {},
   "source": [
    "### Claims Prediction Analysis\n",
    "\n",
    "Given the following claims data:\n",
    "\n",
    "- **Out of 219,292 claims**:\n",
    "  - **Predicted Paid Claims**: 205,058\n",
    "  - **Actual Paid Claims**: 205,030\n",
    "  - **Misclassified Paid Claims**: 29\n",
    "  - **Predicted Declined Claims**: 14,234\n",
    "  - **Actual Declined Claims**: 12,981\n",
    "  - **Misclassified Declined Claims**: 1,253\n",
    "\n",
    "#### Calculations\n",
    "\n",
    "1. **True Positives (TP)**: Correctly predicted paid claims  \n",
    "   $$ TP = 205,030 - 29 = 205,001 $$\n",
    "\n",
    "2. **False Negatives (FN)**: Incorrectly predicted declined claims  \n",
    "   $$ FN = 29 $$\n",
    "\n",
    "3. **True Negatives (TN)**: Correctly predicted declined claims  \n",
    "   $$ TN = 12,981 - 1,253 = 11,728 $$\n",
    "\n",
    "4. **False Positives (FP)**: Incorrectly predicted paid claims  \n",
    "   $$ FP = 1,253 $$\n",
    "\n",
    "#### Accuracy Calculation\n",
    "\n",
    "The accuracy is calculated as follows:\n",
    "\n",
    "$$\n",
    "\\text{Accuracy} = \\frac{205,001 + 11,728}{219,292}\n",
    "$$\n",
    "\n",
    "**Final Accuracy**:  \n",
    "$$\n",
    "\\text{Accuracy} \\approx 0.9876 \\text{ or } 98.76\\%\n",
    "$$\n"
   ]
  },
  {
   "cell_type": "markdown",
   "id": "a24fb52b",
   "metadata": {},
   "source": [
    "```\n",
    "```"
   ]
  },
  {
   "cell_type": "markdown",
   "id": "94d628b9",
   "metadata": {},
   "source": [
    "```\n",
    "```"
   ]
  },
  {
   "cell_type": "markdown",
   "id": "2e974b4f",
   "metadata": {},
   "source": [
    "```\n",
    "```"
   ]
  },
  {
   "cell_type": "markdown",
   "id": "0f98ab96",
   "metadata": {},
   "source": [
    "```\n",
    "```"
   ]
  },
  {
   "cell_type": "markdown",
   "id": "00d8b2e3",
   "metadata": {},
   "source": [
    "\n",
    "```\n",
    "```"
   ]
  },
  {
   "cell_type": "markdown",
   "id": "5a7da7f6",
   "metadata": {},
   "source": [
    "#  Linear Regression"
   ]
  },
  {
   "cell_type": "markdown",
   "id": "b01fe15b",
   "metadata": {},
   "source": [
    "#### Loading the necessary libraries"
   ]
  },
  {
   "cell_type": "code",
   "execution_count": 140,
   "id": "4214a4f8",
   "metadata": {},
   "outputs": [],
   "source": [
    "import pandas as pd\n",
    "import numpy as np\n",
    "from sklearn.model_selection import train_test_split, KFold\n",
    "from sklearn.preprocessing import StandardScaler, OneHotEncoder\n",
    "from sklearn.linear_model import LogisticRegression\n",
    "from sklearn.metrics import accuracy_score\n",
    "from imblearn.over_sampling import SMOTE\n",
    "import os\n"
   ]
  },
  {
   "cell_type": "markdown",
   "id": "aa569f78",
   "metadata": {},
   "source": [
    "#### Selecting the target"
   ]
  },
  {
   "cell_type": "code",
   "execution_count": null,
   "id": "972d2f8b",
   "metadata": {},
   "outputs": [],
   "source": [
    "# Assuming `filtered_df` is your main DataFrame with data ready for modeling\n",
    "X = filtered_df.drop(columns=['INVOICELINEUSERSTATUS'])\n",
    "y = filtered_df['INVOICELINEUSERSTATUS'].map({'Paid': 0, 'NP - Not to be Paid': 1})  # Convert to binary\n"
   ]
  },
  {
   "cell_type": "markdown",
   "id": "f8449071",
   "metadata": {},
   "source": [
    "#### Initializing cross vaalidation "
   ]
  },
  {
   "cell_type": "code",
   "execution_count": 142,
   "id": "d1304e34",
   "metadata": {},
   "outputs": [],
   "source": [
    "# Set up K-Fold cross-validation\n",
    "kf = KFold(n_splits=5, shuffle=True, random_state=42)\n",
    "\n",
    "# Initialize the Logistic Regression model\n",
    "logistic_model = LogisticRegression()\n",
    "\n",
    "# Initialize lists to store accuracy scores\n",
    "accuracy_scores = []\n",
    "\n",
    "# Perform K-Fold Cross-Validation\n",
    "for train_index, val_index in kf.split(X):\n",
    "    X_train, X_val = X.iloc[train_index], X.iloc[val_index]\n",
    "    y_train, y_val = y.iloc[train_index], y.iloc[val_index]"
   ]
  },
  {
   "cell_type": "markdown",
   "id": "616e3cb0",
   "metadata": {},
   "source": [
    "#### Apply SMOTE to the training data"
   ]
  },
  {
   "cell_type": "code",
   "execution_count": 143,
   "id": "d51cda3d",
   "metadata": {},
   "outputs": [],
   "source": [
    "smote = SMOTE(random_state=42)\n",
    "X_train_resampled, y_train_resampled = smote.fit_resample(X_train, y_train)\n"
   ]
  },
  {
   "cell_type": "markdown",
   "id": "199d2299",
   "metadata": {},
   "source": [
    "####  Normalization of the data"
   ]
  },
  {
   "cell_type": "code",
   "execution_count": 189,
   "id": "4de41aa3",
   "metadata": {},
   "outputs": [],
   "source": [
    "scaler = StandardScaler()\n",
    "X_train_resampled = scaler.fit_transform(X_train_resampled)\n",
    "X_test = scaler.transform(X_test)\n"
   ]
  },
  {
   "cell_type": "markdown",
   "id": "cc82c87f",
   "metadata": {},
   "source": [
    "#### K-Fold Cross-Validation using logistic regression to evaluate the performance of a model"
   ]
  },
  {
   "cell_type": "code",
   "execution_count": 145,
   "id": "f1c8f7ea",
   "metadata": {
    "scrolled": true
   },
   "outputs": [
    {
     "name": "stdout",
     "output_type": "stream",
     "text": [
      "Fold 1 Accuracy: 0.972494591421031\n",
      "Fold 2 Accuracy: 0.9741898458413408\n",
      "Fold 3 Accuracy: 0.9734195185308243\n",
      "Fold 4 Accuracy: 0.9740915818406983\n",
      "Fold 5 Accuracy: 0.9735705439937173\n",
      "Average K-Fold Accuracy: 0.9735532163255224\n"
     ]
    }
   ],
   "source": [
    "kf = KFold(n_splits=5, shuffle=True, random_state=42)\n",
    "accuracies = []\n",
    "\n",
    "for fold, (train_index, val_index) in enumerate(kf.split(X_train_resampled), start=1):\n",
    "    X_k_train, X_k_val = X_train_resampled[train_index], X_train_resampled[val_index]\n",
    "    y_k_train, y_k_val = y_train_resampled.iloc[train_index], y_train_resampled.iloc[val_index]\n",
    "\n",
    "    # Create and train the logistic regression model\n",
    "    model = LogisticRegression(random_state=42, max_iter=1000)\n",
    "    model.fit(X_k_train, y_k_train)\n",
    "\n",
    "    # Evaluate the model\n",
    "    val_accuracy = model.score(X_k_val, y_k_val)\n",
    "    accuracies.append(val_accuracy)\n",
    "\n",
    "    print(f\"Fold {fold} Accuracy: {val_accuracy}\")\n",
    "\n",
    "# Output the average accuracy across folds\n",
    "print(f'Average K-Fold Accuracy: {np.mean(accuracies)}')\n"
   ]
  },
  {
   "cell_type": "markdown",
   "id": "10ca95a2",
   "metadata": {},
   "source": [
    "##### making predictions"
   ]
  },
  {
   "cell_type": "code",
   "execution_count": 147,
   "id": "2c075d3c",
   "metadata": {},
   "outputs": [
    {
     "name": "stdout",
     "output_type": "stream",
     "text": [
      "Predictions saved to DL_deep_with_predictions.csv\n"
     ]
    }
   ],
   "source": [
    "# Load DL_deep.csv for predictions\n",
    "df_predict = pd.read_csv(\"DL_deep.csv\")\n",
    "\n",
    "# Select relevant columns and preprocess them as in the training data\n",
    "columns_to_keep = [\n",
    "    \"ORIGINALINVOICEGROSSAMOUNT\", \n",
    "    \"RECOVEREDAMOUNT\", \n",
    "    \"RECOVERYDISCOUNTPBC\", \n",
    "    \"NHIFAMOUNTPBC\", \n",
    "    \"INVLINEPBCDISCOUNTAMOUNT\", \n",
    "    \"INVLINEPBCDENIEDAMOUNT\", \n",
    "    \"BENEFITEXCESSAPPLIED\", \n",
    "    \"INVOICEDAMOUNT\", \n",
    "    \"SETTLEDAMOUNT\", \n",
    "    \"INVOICELINEUSERSTATUS\", \n",
    "    \"INVOICECURRENCYDENIEDAMOUNT\", \n",
    "    \"ReasonText\"\n",
    "]\n",
    "df_predict = df_predict[columns_to_keep]\n",
    "\n",
    "# Process ReasonText to extract prescribed amount\n",
    "df_predict['Prescribed Amount'] = df_predict['ReasonText'].apply(extract_prescribed_amount)\n",
    "df_predict['Prescribed Amount'] = pd.to_numeric(df_predict['Prescribed Amount'], errors='coerce')\n",
    "df_predict['Variance'] = df_predict['INVOICEDAMOUNT'] - df_predict['Prescribed Amount']\n",
    "df_predict = df_predict.drop(columns=[\"ReasonText\"])\n",
    "\n",
    "# Handle missing values\n",
    "for col in df_predict.select_dtypes(include=['object']).columns:\n",
    "    df_predict[col].fillna(df_predict[col].mode()[0], inplace=True)\n",
    "for col in df_predict.select_dtypes(exclude=['object']).columns:\n",
    "    df_predict[col].fillna(df_predict[col].mean(), inplace=True)\n",
    "\n",
    "# Prepare the input data for prediction and scale it\n",
    "X_predict = df_predict.drop(columns=['INVOICELINEUSERSTATUS'], errors='ignore')\n",
    "X_predict_scaled = scaler.transform(X_predict)\n",
    "\n",
    "# Make predictions\n",
    "predictions = model.predict(X_predict_scaled)\n",
    "\n",
    "# Add binary predictions to the original DataFrame\n",
    "df_predict['Predicted_INVOICELINEUSERSTATUS'] = predictions\n",
    "\n",
    "# Save to a new CSV file\n",
    "df_predict.to_csv(\"DL_deep_with_predictions2.csv\", index=False)\n",
    "print(\"Predictions saved to DL_deep_with_predictions.csv\")\n"
   ]
  },
  {
   "cell_type": "markdown",
   "id": "d6c2a9c0",
   "metadata": {},
   "source": [
    "##### confusion matrix"
   ]
  },
  {
   "cell_type": "code",
   "execution_count": 188,
   "id": "05e22919",
   "metadata": {},
   "outputs": [
    {
     "name": "stdout",
     "output_type": "stream",
     "text": [
      "Confusion Matrix:\n",
      "[[  6102   6894]\n",
      " [    14 199375]]\n"
     ]
    },
    {
     "data": {
      "image/png": "[encoded data removed]",
      "text/plain": [
       "<Figure size 640x480 with 2 Axes>"
      ]
     },
     "metadata": {},
     "output_type": "display_data"
    }
   ],
   "source": [
    "import numpy as np\n",
    "import matplotlib.pyplot as plt\n",
    "from sklearn.metrics import confusion_matrix, ConfusionMatrixDisplay\n",
    "\n",
    "\n",
    "# Create true and predicted labels\n",
    "y_true = np.array([1] * 199_375 + [0] * 6_102 + [1] * 14 + [0] * 6_894)  # Actual labels\n",
    "y_pred = np.array([1] * 199_375 + [0] * 6_102 + [0] * 14 + [1] * 6_894)  # Predicted labels\n",
    "\n",
    "# Generate the confusion matrix\n",
    "cm = confusion_matrix(y_true, y_pred)\n",
    "print(\"Confusion Matrix:\")\n",
    "print(cm)\n",
    "\n",
    "# Display the confusion matrix with a heatmap\n",
    "disp = ConfusionMatrixDisplay(confusion_matrix=cm, display_labels=['Declined', 'Paid'])\n",
    "disp.plot(cmap='Oranges')  # Change 'Oranges' to any other color map if you prefer\n",
    "plt.title(\"Confusion Matrix for Claims Prediction Analysis\")\n",
    "plt.show()\n"
   ]
  },
  {
   "cell_type": "markdown",
   "id": "4b5e483d",
   "metadata": {},
   "source": [
    "### Claims Prediction Analysis\n",
    "\n",
    "Given the following claims data:\n",
    "\n",
    "- **Out of 219,292 claims**:\n",
    "  - **Predicted Paid Claims**: 199,402\n",
    "  - **Actual Paid Claims**: 199,389\n",
    "  - **Misclassified Paid Claims**: 14\n",
    "  - **Predicted Declined Claims**: 19,890\n",
    "  - **Actual Declined Claims**: 12,996\n",
    "  - **Misclassified Declined Claims**: 6,894\n",
    "\n",
    "#### Calculations\n",
    "\n",
    "1. **True Positives (TP)**: Correctly predicted paid claims  \n",
    "   $$ TP = 199,389 - 14 = 199,375 $$\n",
    "\n",
    "2. **False Negatives (FN)**: Incorrectly predicted declined claims  \n",
    "   $$ FN = 14 $$\n",
    "\n",
    "3. **True Negatives (TN)**: Correctly predicted declined claims  \n",
    "   $$ TN = 12,996 - 6,894 = 6,102 $$\n",
    "\n",
    "4. **False Positives (FP)**: Incorrectly predicted paid claims  \n",
    "   $$ FP = 6,894 $$\n",
    "\n",
    "#### Accuracy Calculation\n",
    "\n",
    "The accuracy is calculated as follows:\n",
    "\n",
    "$$\n",
    "\\text{Accuracy} = \\frac{199,375 + 6,102}{219,292}\n",
    "$$\n",
    "\n",
    "**Final Accuracy**: **93.70%**\n"
   ]
  }
 ],
 "metadata": {
  "kernelspec": {
   "display_name": "Python 3 (ipykernel)",
   "language": "python",
   "name": "python3"
  },
  "language_info": {
   "codemirror_mode": {
    "name": "ipython",
    "version": 3
   },
   "file_extension": ".py",
   "mimetype": "text/x-python",
   "name": "python",
   "nbconvert_exporter": "python",
   "pygments_lexer": "ipython3",
   "version": "3.11.5"
  }
 },
 "nbformat": 4,
 "nbformat_minor": 5
}
